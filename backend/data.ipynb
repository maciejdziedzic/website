{
 "cells": [
  {
   "cell_type": "code",
   "execution_count": 12,
   "metadata": {},
   "outputs": [],
   "source": [
    "import os\n",
    "import datetime\n",
    "from fredapi import Fred\n",
    "from dotenv import load_dotenv\n",
    "from pymongo import MongoClient\n",
    "import pandas as pd\n",
    "\n",
    "load_dotenv(\".env\")\n",
    "FRED_API_KEY = os.getenv(\"API_KEY\")\n",
    "fred = Fred(api_key=FRED_API_KEY)\n",
    "client = MongoClient('localhost', 27017)\n",
    "db = client.economic_data\n",
    "collection = db.economic_collection"
   ]
  },
  {
   "cell_type": "code",
   "execution_count": 19,
   "metadata": {},
   "outputs": [],
   "source": [
    "# Define your series dictionary, start and end dates as before\n",
    "series_dict = {\n",
    "    'bonds2tr': ('DGS2', 'M'),\n",
    "    'gdpworld': ('NYGDPMKTPCDWLD', 'A'),\n",
    "    'gdp': ('GDP', 'Q'),\n",
    "    'recession': ('JHDUSRGDPBR', 'Q'),\n",
    "    'bond10tr': ('DGS10', 'M'),\n",
    "    'ppi': ('PPIACO', 'M'),\n",
    "    'cpi': ('CPIAUCSL', 'M'),\n",
    "    'unrate': ('UNRATE', 'M'),\n",
    "    'debt': ('GFDEBTN', 'Q'),\n",
    "    'fedrate': ('FEDFUNDS', 'M'),\n",
    "    'm0': ('BOGMBASE', 'M'),\n",
    "    'm3': ('MABMM301USM189S', 'M'),\n",
    "    'cbasstogdp': ('DDDI06USA156NWDB', 'A'),\n",
    "    'resins': ('TOTRESNS', 'M'),\n",
    "    'oil': ('WTISPLC', 'M'),\n",
    "    'indpro': ('INDPRO', 'M'),\n",
    "    'houses': ('MSPUS', 'Q'),\n",
    "    'cp': ('CP', 'Q')\n",
    "}\n",
    "\n",
    "# Define dates\n",
    "start_date = datetime.datetime(1970, 1, 1)\n",
    "end_date = datetime.datetime(2022, 12, 31)\n",
    "\n",
    "# Initialize DataFrames\n",
    "dfs = {'M': pd.DataFrame(), 'Q': pd.DataFrame(), 'A': pd.DataFrame()}\n",
    "\n",
    "# Function to fetch and merge series data\n",
    "def fetch_and_merge(df, var_name, series_id, start, end):\n",
    "    series_data = fred.get_series(series_id)\n",
    "    series_data = series_data.loc[start_date:end_date]\n",
    "    series_df = series_data.to_frame(name=var_name)\n",
    "    series_df.index.name = 'date'\n",
    "    return df.join(series_df, how='inner') if not df.empty else series_df\n",
    "\n",
    "\n",
    "# Loop through each series\n",
    "for var_name, (series_id, freq) in series_dict.items():\n",
    "    dfs[freq] = fetch_and_merge(dfs[freq], var_name, series_id, start_date, end_date)"
   ]
  },
  {
   "cell_type": "code",
   "execution_count": 29,
   "metadata": {},
   "outputs": [],
   "source": [
    "dfs['M'] = dfs['M'].reset_index()\n",
    "data_to_insert = dfs['M'].to_dict(orient='records')"
   ]
  },
  {
   "cell_type": "code",
   "execution_count": 30,
   "metadata": {},
   "outputs": [
    {
     "data": {
      "text/plain": [
       "<pymongo.results.InsertManyResult at 0x1aebbb28040>"
      ]
     },
     "execution_count": 30,
     "metadata": {},
     "output_type": "execute_result"
    }
   ],
   "source": [
    "collection.insert_many(data_to_insert)"
   ]
  },
  {
   "cell_type": "code",
   "execution_count": 28,
   "metadata": {},
   "outputs": [],
   "source": [
    "db.economic_collection.drop()"
   ]
  },
  {
   "cell_type": "code",
   "execution_count": null,
   "metadata": {},
   "outputs": [],
   "source": []
  }
 ],
 "metadata": {
  "kernelspec": {
   "display_name": "Python 3",
   "language": "python",
   "name": "python3"
  },
  "language_info": {
   "codemirror_mode": {
    "name": "ipython",
    "version": 3
   },
   "file_extension": ".py",
   "mimetype": "text/x-python",
   "name": "python",
   "nbconvert_exporter": "python",
   "pygments_lexer": "ipython3",
   "version": "3.11.6"
  }
 },
 "nbformat": 4,
 "nbformat_minor": 2
}
