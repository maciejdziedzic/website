{
 "cells": [
  {
   "cell_type": "code",
   "execution_count": 13,
   "metadata": {},
   "outputs": [],
   "source": [
    "import os\n",
    "import datetime\n",
    "from fredapi import Fred\n",
    "from dotenv import load_dotenv\n",
    "import pandas as pd\n",
    "\n",
    "load_dotenv(\".env\")\n",
    "FRED_API_KEY = os.getenv(\"API_KEY\")\n",
    "fred = Fred(api_key=FRED_API_KEY)\n",
    "\n",
    "start_date = datetime.datetime(1970, 1, 1)\n",
    "end_date = datetime.datetime(2022, 12, 31)\n",
    "extended_date_range = pd.date_range(start=start_date, end=end_date)"
   ]
  },
  {
   "cell_type": "code",
   "execution_count": 34,
   "metadata": {},
   "outputs": [],
   "source": [
    "series_dict = {\n",
    "    'bonds2tr': ('DGS2', 'M'),\n",
    "    'gdp': ('GDP', 'Q'),\n",
    "    'recession': ('JHDUSRGDPBR', 'Q'),\n",
    "    'bonds10tr': ('DGS10', 'M'),\n",
    "    'cpi': ('CPIAUCSL', 'M'),\n",
    "}"
   ]
  },
  {
   "cell_type": "code",
   "execution_count": 55,
   "metadata": {},
   "outputs": [],
   "source": [
    "__bonds2tr = fred.get_series(series_dict['bonds2tr'][0])\n",
    "b2tr_start_date = pd.Timestamp('1976-06-01')\n",
    "b2tr_end_date = pd.Timestamp('1977-12-31')\n",
    "missing_start_date = pd.Timestamp('1970-01-31')\n",
    "mean_value = __bonds2tr[b2tr_start_date:b2tr_end_date].mean()\n",
    "missing_dates = pd.date_range(start=missing_start_date, end=b2tr_start_date - pd.DateOffset(days=1), freq='M')\n",
    "missing_df = pd.DataFrame(index=missing_dates, data={'bonds2tr': mean_value})\n",
    "bonds2tr_df = pd.DataFrame(__bonds2tr, columns=['bonds2tr'])\n",
    "extended_df = pd.concat([missing_df, bonds2tr_df])\n",
    "result_df = extended_df.resample('Q').last()\n",
    "bonds2tr = result_df[(result_df.index >= start_date) & (result_df.index <= end_date)]\n",
    "\n",
    "bonds10tr = fred.get_series(series_dict['bonds10tr'][0])\n",
    "bonds10tr = pd.DataFrame(bonds10tr, columns=['bonds10tr'])\n",
    "bonds10tr = bonds10tr.resample('Q').last()\n",
    "bonds10tr = bonds10tr[(bonds10tr.index >= start_date) & (bonds10tr.index <= end_date)]\n",
    "\n",
    "yic = bonds10tr['bonds10tr'] - bonds2tr['bonds2tr']\n",
    "yic = pd.DataFrame(yic, columns=['yic'])"
   ]
  },
  {
   "cell_type": "code",
   "execution_count": 56,
   "metadata": {},
   "outputs": [],
   "source": [
    "cpi = fred.get_series(series_dict['cpi'][0])\n",
    "cpi = pd.DataFrame(cpi, columns=['cpi'])\n",
    "cpi = cpi['cpi'].pct_change() * 100\n",
    "cpi = cpi.resample('Q').last()\n",
    "cpi = cpi[(cpi.index >= start_date) & (cpi.index <= end_date)]\n",
    "\n",
    "\n",
    "recession = fred.get_series(series_dict['recession'][0])\n",
    "recession = pd.DataFrame(recession, columns=['recession'])\n",
    "recession = recession.resample('Q').last()\n",
    "recession = recession[(recession.index >= start_date) & (recession.index <= end_date)]"
   ]
  },
  {
   "cell_type": "code",
   "execution_count": 57,
   "metadata": {},
   "outputs": [],
   "source": [
    "df = pd.concat([recession, gdp, cpi, yic])"
   ]
  },
  {
   "cell_type": "code",
   "execution_count": 78,
   "metadata": {},
   "outputs": [
    {
     "data": {
      "text/html": [
       "<div>\n",
       "<style scoped>\n",
       "    .dataframe tbody tr th:only-of-type {\n",
       "        vertical-align: middle;\n",
       "    }\n",
       "\n",
       "    .dataframe tbody tr th {\n",
       "        vertical-align: top;\n",
       "    }\n",
       "\n",
       "    .dataframe thead th {\n",
       "        text-align: right;\n",
       "    }\n",
       "</style>\n",
       "<table border=\"1\" class=\"dataframe\">\n",
       "  <thead>\n",
       "    <tr style=\"text-align: right;\">\n",
       "      <th></th>\n",
       "      <th>gdp</th>\n",
       "    </tr>\n",
       "  </thead>\n",
       "  <tbody>\n",
       "    <tr>\n",
       "      <th>1970-01-01</th>\n",
       "      <td>0.012573</td>\n",
       "    </tr>\n",
       "    <tr>\n",
       "      <th>1970-04-01</th>\n",
       "      <td>0.015387</td>\n",
       "    </tr>\n",
       "    <tr>\n",
       "      <th>1970-07-01</th>\n",
       "      <td>0.017505</td>\n",
       "    </tr>\n",
       "    <tr>\n",
       "      <th>1970-10-01</th>\n",
       "      <td>0.002347</td>\n",
       "    </tr>\n",
       "    <tr>\n",
       "      <th>1971-01-01</th>\n",
       "      <td>0.042759</td>\n",
       "    </tr>\n",
       "    <tr>\n",
       "      <th>...</th>\n",
       "      <td>...</td>\n",
       "    </tr>\n",
       "    <tr>\n",
       "      <th>2021-10-01</th>\n",
       "      <td>0.034648</td>\n",
       "    </tr>\n",
       "    <tr>\n",
       "      <th>2022-01-01</th>\n",
       "      <td>0.015190</td>\n",
       "    </tr>\n",
       "    <tr>\n",
       "      <th>2022-04-01</th>\n",
       "      <td>0.020582</td>\n",
       "    </tr>\n",
       "    <tr>\n",
       "      <th>2022-07-01</th>\n",
       "      <td>0.017631</td>\n",
       "    </tr>\n",
       "    <tr>\n",
       "      <th>2022-10-01</th>\n",
       "      <td>0.015917</td>\n",
       "    </tr>\n",
       "  </tbody>\n",
       "</table>\n",
       "<p>212 rows × 1 columns</p>\n",
       "</div>"
      ],
      "text/plain": [
       "                 gdp\n",
       "1970-01-01  0.012573\n",
       "1970-04-01  0.015387\n",
       "1970-07-01  0.017505\n",
       "1970-10-01  0.002347\n",
       "1971-01-01  0.042759\n",
       "...              ...\n",
       "2021-10-01  0.034648\n",
       "2022-01-01  0.015190\n",
       "2022-04-01  0.020582\n",
       "2022-07-01  0.017631\n",
       "2022-10-01  0.015917\n",
       "\n",
       "[212 rows x 1 columns]"
      ]
     },
     "execution_count": 78,
     "metadata": {},
     "output_type": "execute_result"
    }
   ],
   "source": [
    "gdp = fred.get_series(series_dict['gdp'][0])\n",
    "gdp = pd.DataFrame(gdp, columns=['gdp'])\n",
    "gdp['gdp'] = gdp['gdp'].pct_change().resample('')\n",
    "gdp = gdp[(gdp.index >= start_date) & (gdp.index <= end_date)]\n",
    "gdp"
   ]
  },
  {
   "cell_type": "code",
   "execution_count": null,
   "metadata": {},
   "outputs": [],
   "source": []
  }
 ],
 "metadata": {
  "kernelspec": {
   "display_name": "Python 3",
   "language": "python",
   "name": "python3"
  },
  "language_info": {
   "codemirror_mode": {
    "name": "ipython",
    "version": 3
   },
   "file_extension": ".py",
   "mimetype": "text/x-python",
   "name": "python",
   "nbconvert_exporter": "python",
   "pygments_lexer": "ipython3",
   "version": "3.11.6"
  }
 },
 "nbformat": 4,
 "nbformat_minor": 2
}
