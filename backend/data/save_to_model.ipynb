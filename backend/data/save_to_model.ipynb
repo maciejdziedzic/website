{
 "cells": [
  {
   "cell_type": "code",
   "execution_count": 1,
   "metadata": {},
   "outputs": [],
   "source": [
    "from pymongo import MongoClient\n",
    "import pandas as pd\n",
    "import os\n",
    "import pathlib\n",
    "from dotenv import load_dotenv\n",
    "import datetime\n",
    "from fredapi import Fred\n",
    "\n",
    "env_path = pathlib.Path('..') / '.env'\n",
    "load_dotenv(dotenv_path=env_path)\n",
    "FRED_API_KEY = os.getenv(\"FRED_API_KEY\")\n",
    "fred = Fred(api_key=FRED_API_KEY)\n",
    "\n",
    "\n",
    "client = MongoClient('localhost', 27017)\n",
    "db = client.project2_db\n",
    "collection = db.project2_collection\n",
    "\n",
    "# Define your series dictionary, start and end dates as before\n",
    "series_dict = {\n",
    "    'bonds2tr': ('DGS2', 'D'),\n",
    "    'gdpworld': ('NYGDPMKTPCDWLD', 'A'),\n",
    "    'gdp': ('GDP', 'Q'),\n",
    "    'recession': ('JHDUSRGDPBR', 'Q'),\n",
    "    'bonds10tr': ('DGS10', 'D'),\n",
    "    'ppi': ('PPIACO', 'M'),\n",
    "    'cpi': ('CPIAUCSL', 'M'),\n",
    "    'unrate': ('UNRATE', 'M'),\n",
    "    'debt': ('GFDEBTN', 'Q'),\n",
    "    'fedrate': ('FEDFUNDS', 'M'),\n",
    "    'm0': ('BOGMBASE', 'M'),\n",
    "    'm3': ('MABMM301USM189S', 'M'),\n",
    "    'cbasstogdp': ('DDDI06USA156NWDB', 'A'),\n",
    "    'resins': ('TOTRESNS', 'M'),\n",
    "    'oil': ('WTISPLC', 'M'),\n",
    "    'indpro': ('INDPRO', 'M'),\n",
    "    'houses': ('MSPUS', 'Q'),\n",
    "    'wages': ('CES3000000008', 'M'),\n",
    "    'cp': ('CP', 'Q')\n",
    "}\n",
    "\n",
    "# Define dates\n",
    "start_date = datetime.datetime(1970, 1, 1)\n",
    "end_date = datetime.datetime(2022, 12, 31)\n",
    "\n",
    "# Initialize DataFrames\n",
    "dfs = {'D': pd.DataFrame(), 'M': pd.DataFrame(), 'Q': pd.DataFrame(), 'A': pd.DataFrame()}\n",
    "\n",
    "\n",
    "def fetch_data(df, var_name, series_id):\n",
    "    series_data = fred.get_series(series_id)\n",
    "    series_df = series_data.to_frame(name=var_name)\n",
    "    series_df.index.name = 'date'\n",
    "    return df.join(series_df, how='outer') if not df.empty else series_df\n",
    "\n",
    "\n",
    "for var_name, (series_id, freq) in series_dict.items():\n",
    "    dfs[freq] = fetch_data(dfs[freq], var_name, series_id)"
   ]
  },
  {
   "cell_type": "code",
   "execution_count": 2,
   "metadata": {},
   "outputs": [],
   "source": [
    "df = {}\n",
    "df['D_M'] = dfs['D'].resample('M').last()\n",
    "df['M_M'] = dfs['M'].resample('M').last()\n",
    "df['Q_M'] = dfs['Q'].resample('M').ffill()\n",
    "new_dates = pd.date_range(\n",
    "    start=df['Q_M'].index.min(), end='2022-12-31', freq='M')\n",
    "df['Q_M'] = df['Q_M'].reindex(new_dates).ffill()\n",
    "df['A_M'] = dfs['A'].resample('M').ffill()"
   ]
  },
  {
   "cell_type": "code",
   "execution_count": 3,
   "metadata": {},
   "outputs": [],
   "source": [
    "data = pd.concat([df['D_M'], df['M_M'], df['Q_M'], df['A_M']], axis=1)"
   ]
  },
  {
   "cell_type": "code",
   "execution_count": 4,
   "metadata": {},
   "outputs": [],
   "source": [
    "data['wages_month'] = round(data['wages'] * 168, 2)\n",
    "data['house_wages'] = round(data['houses']/data['wages_month'], 2)\n",
    "data['iyc'] = round(data['bonds10tr'] - data['bonds2tr'], 2)\n",
    "data['gdp_pct'] = round(data['gdp'].pct_change(periods=4) * 100, 2)\n",
    "data['gdp_pct_ma4'] = round(data['gdp_pct'].rolling(window=4).mean(), 2)\n",
    "data['gdpworld_pct'] = round(data['gdpworld'].pct_change(12) * 100, 2)\n",
    "data['debt_to_gdp'] = round(data['debt'] / data['gdp']/1000, 2)\n",
    "data['m0_to_gdp'] = round(data['m0'] / data['gdp']/1000 * 100, 2)\n",
    "data['m3_to_gdp'] = round((data['m3']/1000000) / data['gdp']/1000 * 100, 2)\n",
    "data['cpi_pct'] = round(data['cpi'].pct_change(periods=12) * 100, 2)\n",
    "data['ppi_pct'] = round(data['ppi'].pct_change(periods=12) * 100, 2)\n",
    "data['cbasstogdp'] = round(data['cbasstogdp'], 2)\n",
    "data['indpro'] = round(data['indpro'], 2)\n",
    "data['oil'] = round(data['oil'], 2)\n",
    "\n",
    "data = data[start_date:end_date]\n",
    "\n",
    "# data[['date', 'gdp_pct', 'gdp_pct_ma4', 'gdpworld', 'gdpworld_pct']].tail(20)"
   ]
  },
  {
   "cell_type": "code",
   "execution_count": 5,
   "metadata": {},
   "outputs": [
    {
     "data": {
      "text/plain": [
       "<pymongo.results.InsertManyResult at 0x1f00bc81630>"
      ]
     },
     "execution_count": 5,
     "metadata": {},
     "output_type": "execute_result"
    }
   ],
   "source": [
    "data.index.name = 'date'\n",
    "data = data.reset_index()\n",
    "\n",
    "data_to_insert = data.to_dict(orient='records')\n",
    "collection.insert_many(data_to_insert)"
   ]
  },
  {
   "cell_type": "code",
   "execution_count": 6,
   "metadata": {},
   "outputs": [],
   "source": [
    "# data.to_csv('data.csv')\n",
    "# data['date'] = pd.to_datetime(data['date'])\n",
    "# data = data.set_index('date', inplace=True)\n",
    "# data.index.name = 'date'\n",
    "# data\n"
   ]
  },
  {
   "cell_type": "code",
   "execution_count": 17,
   "metadata": {},
   "outputs": [],
   "source": [
    "# quaterly_last_record = data.resample('Q').last().dropna(how='all')\n",
    "# quaterly_last_record.to_csv('quaterly_last_record.csv')\n"
   ]
  },
  {
   "cell_type": "code",
   "execution_count": 190,
   "metadata": {},
   "outputs": [],
   "source": [
    "# quaterly_last_record"
   ]
  }
 ],
 "metadata": {
  "kernelspec": {
   "display_name": "Python 3",
   "language": "python",
   "name": "python3"
  },
  "language_info": {
   "codemirror_mode": {
    "name": "ipython",
    "version": 3
   },
   "file_extension": ".py",
   "mimetype": "text/x-python",
   "name": "python",
   "nbconvert_exporter": "python",
   "pygments_lexer": "ipython3",
   "version": "3.11.6"
  }
 },
 "nbformat": 4,
 "nbformat_minor": 2
}
