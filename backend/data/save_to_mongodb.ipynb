{
 "cells": [
  {
   "cell_type": "code",
   "execution_count": 66,
   "metadata": {},
   "outputs": [],
   "source": [
    "from pymongo import MongoClient\n",
    "import pandas as pd\n",
    "import os\n",
    "import pathlib\n",
    "from dotenv import load_dotenv\n",
    "import datetime\n",
    "from fredapi import Fred\n",
    "\n",
    "env_path = pathlib.Path('..') / '.env'\n",
    "load_dotenv(dotenv_path=env_path)\n",
    "FRED_API_KEY = os.getenv(\"FRED_API_KEY\")\n",
    "fred = Fred(api_key=FRED_API_KEY)\n",
    "\n",
    "\n",
    "client = MongoClient('localhost', 27017)\n",
    "db = client.project2_db\n",
    "collection = db.project2_collection\n",
    "\n",
    "# Define your series dictionary, start and end dates as before\n",
    "series_dict = {\n",
    "    'bonds2tr': ('DGS2', 'D'),\n",
    "    'gdpworld': ('NYGDPMKTPCDWLD', 'A'),\n",
    "    'gdp': ('GDP', 'Q'),\n",
    "    'recession': ('JHDUSRGDPBR', 'Q'),\n",
    "    'bonds10tr': ('DGS10', 'D'),\n",
    "    'ppi': ('PPIACO', 'M'),\n",
    "    'cpi': ('CPIAUCSL', 'M'),\n",
    "    'unrate': ('UNRATE', 'M'),\n",
    "    'debt': ('GFDEBTN', 'Q'),\n",
    "    'fedrate': ('FEDFUNDS', 'M'),\n",
    "    'm0': ('BOGMBASE', 'M'),\n",
    "    'm3': ('MABMM301USM189S', 'M'),\n",
    "    'cbasstogdp': ('DDDI06USA156NWDB', 'A'),\n",
    "    'resins': ('TOTRESNS', 'M'),\n",
    "    'oil': ('WTISPLC', 'M'),\n",
    "    'indpro': ('INDPRO', 'M'),\n",
    "    'houses': ('MSPUS', 'Q'),\n",
    "    'wages': ('AHETPI', 'M'),\n",
    "    'cp': ('CP', 'Q'),\n",
    "    'fed_debt_to_gdp': ('GFDGDPA188S', 'A'),\n",
    "    'comm_banks_borrowings': ('LOANINV', 'D')\n",
    "}\n",
    "\n",
    "# Initialize DataFrames\n",
    "dfs = {'D': pd.DataFrame(), 'M': pd.DataFrame(), 'Q': pd.DataFrame(), 'A': pd.DataFrame()}\n",
    "\n",
    "\n",
    "def fetch_data(df, var_name, series_id):\n",
    "    series_data = fred.get_series(series_id)\n",
    "    series_df = series_data.to_frame(name=var_name)\n",
    "    series_df.index.name = 'date'\n",
    "    return df.join(series_df, how='outer') if not df.empty else series_df\n",
    "\n",
    "\n",
    "for var_name, (series_id, freq) in series_dict.items():\n",
    "    dfs[freq] = fetch_data(dfs[freq], var_name, series_id)"
   ]
  },
  {
   "cell_type": "code",
   "execution_count": 67,
   "metadata": {},
   "outputs": [],
   "source": [
    "df = {}\n",
    "df['D_M'] = dfs['D'].resample('M').last()\n",
    "df['M_M'] = dfs['M'].resample('M').last()\n",
    "df['Q_M'] = dfs['Q'].resample('M').ffill()\n",
    "# new_dates = pd.date_range(\n",
    "#     start=df['Q_M'].index.min(), end='2022-12-31', freq='M')\n",
    "# df['Q_M'] = df['Q_M'].reindex(new_dates).ffill()\n",
    "df['A_M'] = dfs['A'].resample('M').ffill()"
   ]
  },
  {
   "cell_type": "code",
   "execution_count": 68,
   "metadata": {},
   "outputs": [],
   "source": [
    "data = pd.concat([df['D_M'], df['M_M'], df['Q_M'], df['A_M']], axis=1)\n",
    "# data = data.loc['1970-01-01':]"
   ]
  },
  {
   "cell_type": "code",
   "execution_count": 69,
   "metadata": {},
   "outputs": [],
   "source": [
    "data['wages_month'] = round(data['wages'] * 168, 2)\n",
    "data['house_wages'] = round(data['houses']/data['wages_month'], 2)\n",
    "data['iyc'] = round(data['bonds10tr'] - data['bonds2tr'], 2)\n",
    "data['gdp_pct'] = round(data['gdp'].pct_change(periods=4) * 100, 2)\n",
    "data['gdp_pct_ma4'] = round(data['gdp_pct'].rolling(window=4).mean(), 2)\n",
    "data['gdpworld_pct'] = round(data['gdpworld'].pct_change(12) * 100, 2)\n",
    "# data['debt_to_gdp'] = round(100 * data['debt'] / data['gdp']/1000, 2)\n",
    "data['debt_to_gdp'] = round(data['fed_debt_to_gdp'], 2)\n",
    "data['resins_to_gdp'] = round(100 * data['resins'] / data['gdp'], 2)\n",
    "data['cp_to_gdp'] = round(100 * data['cp'] / data['gdp'], 2)\n",
    "data['m0_to_gdp'] = round(data['m0'] / data['gdp']/1000 * 100, 2)\n",
    "data['m3_to_gdp'] = round((data['m3']/1000000) / data['gdp']/1000 * 100, 2)\n",
    "data['cpi_pct'] = round(data['cpi'].pct_change(periods=12) * 100, 2)\n",
    "data['ppi_pct'] = round(data['ppi'].pct_change(periods=12) * 100, 2)\n",
    "data['cbasstogdp'] = round(data['cbasstogdp'], 2)\n",
    "data['indpro'] = round(data['indpro'], 2)\n",
    "data['oil'] = round(data['oil'], 2)\n",
    "data['comm_banks_to_gdp'] = round(100 * (data['comm_banks_borrowings'] / (data['gdp'] )),2)\n",
    "# 01.2020\n",
    "base_year = 258.906\n",
    "data['adjusted_oil'] = data['oil'] * (base_year / data['cpi'])"
   ]
  },
  {
   "cell_type": "code",
   "execution_count": 74,
   "metadata": {},
   "outputs": [],
   "source": [
    "csv_file_path = '../../frontend/public/cpi_manual_data.csv'\n",
    "df = pd.read_csv(csv_file_path)\n",
    "# Filter columns\n",
    "month_columns = ['Jan', 'Feb', 'Mar', 'Apr', 'May', 'Jun', 'Jul', 'Aug', 'Sep', 'Oct', 'Nov', 'Dec']\n",
    "df_filtered = df[['Year'] + month_columns]\n",
    "\n",
    "# Melt the dataframe\n",
    "df_melted = df_filtered.melt(id_vars='Year', var_name='Month', value_name='value')\n",
    "\n",
    "# Extract month and convert to numeric\n",
    "df_melted['Month'] = df_melted['Month'].apply(lambda x: {'Jan':1, 'Feb':2, 'Mar':3, 'Apr':4, 'May':5, 'Jun':6, 'Jul':7, 'Aug':8, 'Sep':9, 'Oct':10, 'Nov':11, 'Dec':12}[x])\n",
    "df_melted['date'] = pd.to_datetime(df_melted['Year'].astype(str) + '-' + df_melted['Month'].astype(str) + '-01')\n",
    "df_melted['date'] = df_melted['date'] + pd.offsets.MonthEnd(0)\n",
    "df_melted.set_index('date', inplace=True)\n",
    "df_melted.sort_index(inplace=True)\n",
    "df_melted['cpi_manual'] = df_melted['value']\n",
    "merged_df = data.merge(df_melted['cpi_manual'], on='date', how='left')"
   ]
  },
  {
   "cell_type": "code",
   "execution_count": 71,
   "metadata": {},
   "outputs": [
    {
     "data": {
      "text/plain": [
       "<pymongo.results.InsertManyResult at 0x1df21f45db0>"
      ]
     },
     "execution_count": 71,
     "metadata": {},
     "output_type": "execute_result"
    }
   ],
   "source": [
    "merged_df.index.name = 'date'\n",
    "data = merged_df.reset_index()\n",
    "\n",
    "data_to_insert = data.to_dict(orient='records')\n",
    "collection.insert_many(data_to_insert)"
   ]
  },
  {
   "cell_type": "code",
   "execution_count": 73,
   "metadata": {},
   "outputs": [
    {
     "data": {
      "text/plain": [
       "'c:\\\\Users\\\\Maciek\\\\Desktop\\\\website\\\\backend\\\\data'"
      ]
     },
     "execution_count": 73,
     "metadata": {},
     "output_type": "execute_result"
    }
   ],
   "source": [
    "pwd"
   ]
  },
  {
   "cell_type": "code",
   "execution_count": null,
   "metadata": {},
   "outputs": [],
   "source": []
  },
  {
   "cell_type": "code",
   "execution_count": null,
   "metadata": {},
   "outputs": [],
   "source": []
  }
 ],
 "metadata": {
  "kernelspec": {
   "display_name": "Python 3",
   "language": "python",
   "name": "python3"
  },
  "language_info": {
   "codemirror_mode": {
    "name": "ipython",
    "version": 3
   },
   "file_extension": ".py",
   "mimetype": "text/x-python",
   "name": "python",
   "nbconvert_exporter": "python",
   "pygments_lexer": "ipython3",
   "version": "3.11.9"
  }
 },
 "nbformat": 4,
 "nbformat_minor": 2
}
