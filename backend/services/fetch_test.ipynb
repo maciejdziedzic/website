{
 "cells": [
  {
   "cell_type": "code",
   "execution_count": 4,
   "metadata": {},
   "outputs": [],
   "source": [
    "from flask import jsonify\n",
    "from fredapi import Fred\n",
    "import openai\n",
    "from dotenv import load_dotenv\n",
    "import os\n",
    "import pathlib\n",
    "import requests\n",
    "from bs4 import BeautifulSoup\n",
    "import re\n",
    "\n",
    "env_path = pathlib.Path('..') / '.env'\n",
    "load_dotenv(dotenv_path=env_path)\n",
    "FRED_API_KEY = os.getenv(\"FRED_API_KEY\")\n",
    "fred = Fred(api_key=FRED_API_KEY)\n",
    "AI_KEY = os.getenv(\"OPENAI_API_KEY\")\n",
    "openai.api_key = AI_KEY"
   ]
  },
  {
   "cell_type": "code",
   "execution_count": 14,
   "metadata": {},
   "outputs": [
    {
     "name": "stdout",
     "output_type": "stream",
     "text": [
      "{'cpi': 0.8929677651144496, 'cpi_status': 'success', 'cpi_test': 3.62}\n"
     ]
    }
   ],
   "source": [
    "def fetch_data():\n",
    "    url = 'https://www.clevelandfed.org/indicators-and-data/inflation-nowcasting'\n",
    "    data = {}\n",
    "    error_messages = []\n",
    "\n",
    "    # Fetch CPI\n",
    "    try:\n",
    "        response = requests.get(url)\n",
    "        if response.status_code == 200:\n",
    "            soup = BeautifulSoup(response.text, 'html.parser')\n",
    "\n",
    "            # Find the last table on the page\n",
    "            tables = soup.find_all('table')\n",
    "            if tables:\n",
    "                last_table = tables[-1]\n",
    "                desired_td = last_table.select_one('tbody > tr > td:nth-child(2)')\n",
    "                if desired_td:\n",
    "                    annualized_pct_change = float(desired_td.get_text(strip=True))\n",
    "                    # Convert annualized percent change to quarterly percent change\n",
    "                    quarterly_pct_change = (\n",
    "                        pow(1 + annualized_pct_change / 100, 0.25) - 1) * 100\n",
    "                    data['cpi'] = quarterly_pct_change\n",
    "                    data['cpi_status'] = \"success\"\n",
    "\n",
    "                else:\n",
    "                    raise ValueError(\"No CPI number found in the last table\")\n",
    "            else:\n",
    "                raise ValueError(\"No tables found on the page\")\n",
    "        else:\n",
    "            raise ValueError(\"Failed to retrieve the page\")\n",
    "    except Exception as e:\n",
    "        data['cpi'] = None\n",
    "        data['cpi_status'] = \"error\"\n",
    "        data['cpi_error'] = str(e)\n",
    "\n",
    "    return data"
   ]
  }
 ],
 "metadata": {
  "kernelspec": {
   "display_name": "Python 3",
   "language": "python",
   "name": "python3"
  },
  "language_info": {
   "codemirror_mode": {
    "name": "ipython",
    "version": 3
   },
   "file_extension": ".py",
   "mimetype": "text/x-python",
   "name": "python",
   "nbconvert_exporter": "python",
   "pygments_lexer": "ipython3",
   "version": "3.11.6"
  }
 },
 "nbformat": 4,
 "nbformat_minor": 2
}
