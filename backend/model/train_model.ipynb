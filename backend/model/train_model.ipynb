{
 "cells": [
  {
   "cell_type": "code",
   "execution_count": 124,
   "metadata": {},
   "outputs": [],
   "source": [
    "import os\n",
    "import datetime\n",
    "import pandas as pd\n",
    "import numpy as np\n",
    "from fredapi import Fred\n",
    "from dotenv import load_dotenv\n",
    "from sklearn.model_selection import TimeSeriesSplit\n",
    "from sklearn.metrics import mean_squared_error\n",
    "from sklearn.linear_model import LinearRegression\n",
    "import statsmodels.api as sm\n",
    "import joblib\n",
    "\n",
    "def load_data_from_fred(api_key, series_code):\n",
    "    fred = Fred(api_key=api_key)\n",
    "    series = fred.get_series(series_code)\n",
    "    df = pd.DataFrame(series)\n",
    "    return df\n",
    "\n",
    "\n",
    "def preprocess_stooq_data(filepath, column_name):\n",
    "    df = pd.read_csv(filepath)\n",
    "    df['Data'] = pd.to_datetime(df['Data'])\n",
    "    df.set_index('Data', inplace=True)\n",
    "    df = df.rename(columns={\"Zamkniecie\": column_name})\n",
    "    df = df[[column_name]]\n",
    "    df_q = df.resample('Q').last()\n",
    "    df_q[f'{column_name}_q_pct'] = df_q[column_name].pct_change() * 100\n",
    "    df_q = df_q.drop(column_name, axis=1)\n",
    "    return df_q[(df_q.index >= start_date) & (df_q.index <= end_date)]\n",
    "\n",
    "\n",
    "def build_and_validate_model(X, y, model_name):\n",
    "    tscv = TimeSeriesSplit(n_splits=2)\n",
    "    model = LinearRegression()\n",
    "\n",
    "    for train_index, test_index in tscv.split(X):\n",
    "        X_train, X_test = X[train_index], X[test_index]\n",
    "        y_train, y_test = y[train_index], y[test_index]\n",
    "        model.fit(X_train, y_train)\n",
    "        predictions = model.predict(X_test)\n",
    "        mse = mean_squared_error(y_test, predictions)\n",
    "        print(f\"{model_name} Test MSE: {mse}\")\n",
    "\n",
    "    print(f\"{model_name} Model Coefficients:\", model.coef_)\n",
    "    print(f\"{model_name} Model Intercept:\", model.intercept_)\n",
    "\n",
    "    r2_score_train = model.score(X_train, y_train)\n",
    "    r2_score_test = model.score(X_test, y_test)\n",
    "\n",
    "    print(f\"{model_name} Training R^2: {r2_score_train}\")\n",
    "    print(f\"{model_name} Test R^2: {r2_score_test}\")\n",
    "\n",
    "    # Statsmodels for detailed statistics\n",
    "    X_with_const = sm.add_constant(X_train)\n",
    "    ols_model = sm.OLS(y_train, X_with_const)\n",
    "    result = ols_model.fit()\n",
    "    print(result.summary())\n",
    "\n",
    "    # Save model to a .pkl file\n",
    "    joblib.dump(model, f\"{model_name}_model.pkl\")\n",
    "\n",
    "    return model"
   ]
  },
  {
   "cell_type": "code",
   "execution_count": 125,
   "metadata": {},
   "outputs": [],
   "source": [
    "# Environment setup\n",
    "load_dotenv(\"../.env\")\n",
    "FRED_API_KEY = os.getenv(\"API_KEY\")\n",
    "\n",
    "start_date = datetime.datetime(1955, 1, 1)\n",
    "end_date = datetime.datetime(2022, 12, 31)"
   ]
  },
  {
   "cell_type": "code",
   "execution_count": 126,
   "metadata": {},
   "outputs": [],
   "source": [
    "# Data loading and preprocessing\n",
    "# gold = preprocess_stooq_data('../data/xausd.csv', 'gold')\n",
    "sp500 = preprocess_stooq_data('../data/spx.csv', 'sp500')\n",
    "cpi = load_data_from_fred(FRED_API_KEY, 'CPIAUCSL')\n",
    "cpi.columns = ['cpi']\n",
    "cpi = cpi.resample('Q').last()\n",
    "cpi['cpi_pct'] = cpi['cpi'].pct_change() * 100\n",
    "cpi.index = cpi.index + pd.offsets.MonthEnd(0)\n",
    "cpi.index.name = 'date'\n",
    "fedrate = load_data_from_fred(FRED_API_KEY, 'FEDFUNDS')\n",
    "fedrate.columns = ['fedrate']\n",
    "fedrate_avg = fedrate.resample('Q').mean()\n",
    "\n",
    "# Final Df:\n",
    "df = pd.concat([sp500, cpi, fedrate_avg], axis=1)\n",
    "df['fedrate_change'] = df['fedrate'].diff()\n",
    "df['fed_sentiment'] = np.where(df['fedrate_change'] > 0, 1, \n",
    "                               np.where(df['fedrate_change'] < 0, -1, 0))\n",
    "df['cpi_pct_lag1'] = df['cpi_pct'].shift(1)\n",
    "df['fed_sentiment_lag1'] = df['fed_sentiment'].shift(1)\n",
    "df['fed_sentiment_cpi'] = df['fed_sentiment'] * df['cpi_pct']\n",
    "df['cpi_pct_squared'] = df['cpi_pct']**2\n",
    "df['cpi_rate_of_change'] = df['cpi_pct'].diff()\n",
    "df['cpi_moving_avg'] = df['cpi_pct'].rolling(window=3).mean()\n",
    "\n",
    "# After adding these transformations, you can then split and build the model.\n",
    "df = df[(df.index >= start_date) & (df.index <= end_date)]"
   ]
  },
  {
   "cell_type": "code",
   "execution_count": 127,
   "metadata": {},
   "outputs": [
    {
     "name": "stdout",
     "output_type": "stream",
     "text": [
      "sp500 Test MSE: 65.49505801265217\n",
      "sp500 Test MSE: 82.41482712877064\n",
      "sp500 Model Coefficients: [-2.17141496 -1.43532648]\n",
      "sp500 Model Intercept: 4.807484486328864\n",
      "sp500 Training R^2: 0.09517663201680049\n",
      "sp500 Test R^2: -0.15963313685264957\n",
      "                            OLS Regression Results                            \n",
      "==============================================================================\n",
      "Dep. Variable:                      y   R-squared:                       0.095\n",
      "Model:                            OLS   Adj. R-squared:                  0.085\n",
      "Method:                 Least Squares   F-statistic:                     9.414\n",
      "Date:                Fri, 27 Oct 2023   Prob (F-statistic):           0.000130\n",
      "Time:                        17:37:42   Log-Likelihood:                -618.46\n",
      "No. Observations:                 182   AIC:                             1243.\n",
      "Df Residuals:                     179   BIC:                             1253.\n",
      "Df Model:                           2                                         \n",
      "Covariance Type:            nonrobust                                         \n",
      "==============================================================================\n",
      "                 coef    std err          t      P>|t|      [0.025      0.975]\n",
      "------------------------------------------------------------------------------\n",
      "const          4.8075      0.881      5.456      0.000       3.069       6.546\n",
      "x1            -2.1714      0.677     -3.206      0.002      -3.508      -0.835\n",
      "x2            -1.4353      0.550     -2.610      0.010      -2.520      -0.350\n",
      "==============================================================================\n",
      "Omnibus:                       15.504   Durbin-Watson:                   1.972\n",
      "Prob(Omnibus):                  0.000   Jarque-Bera (JB):               22.136\n",
      "Skew:                          -0.517   Prob(JB):                     1.56e-05\n",
      "Kurtosis:                       4.360   Cond. No.                         3.08\n",
      "==============================================================================\n",
      "\n",
      "Notes:\n",
      "[1] Standard Errors assume that the covariance matrix of the errors is correctly specified.\n"
     ]
    },
    {
     "data": {
      "text/html": [
       "<style>#sk-container-id-20 {color: black;}#sk-container-id-20 pre{padding: 0;}#sk-container-id-20 div.sk-toggleable {background-color: white;}#sk-container-id-20 label.sk-toggleable__label {cursor: pointer;display: block;width: 100%;margin-bottom: 0;padding: 0.3em;box-sizing: border-box;text-align: center;}#sk-container-id-20 label.sk-toggleable__label-arrow:before {content: \"▸\";float: left;margin-right: 0.25em;color: #696969;}#sk-container-id-20 label.sk-toggleable__label-arrow:hover:before {color: black;}#sk-container-id-20 div.sk-estimator:hover label.sk-toggleable__label-arrow:before {color: black;}#sk-container-id-20 div.sk-toggleable__content {max-height: 0;max-width: 0;overflow: hidden;text-align: left;background-color: #f0f8ff;}#sk-container-id-20 div.sk-toggleable__content pre {margin: 0.2em;color: black;border-radius: 0.25em;background-color: #f0f8ff;}#sk-container-id-20 input.sk-toggleable__control:checked~div.sk-toggleable__content {max-height: 200px;max-width: 100%;overflow: auto;}#sk-container-id-20 input.sk-toggleable__control:checked~label.sk-toggleable__label-arrow:before {content: \"▾\";}#sk-container-id-20 div.sk-estimator input.sk-toggleable__control:checked~label.sk-toggleable__label {background-color: #d4ebff;}#sk-container-id-20 div.sk-label input.sk-toggleable__control:checked~label.sk-toggleable__label {background-color: #d4ebff;}#sk-container-id-20 input.sk-hidden--visually {border: 0;clip: rect(1px 1px 1px 1px);clip: rect(1px, 1px, 1px, 1px);height: 1px;margin: -1px;overflow: hidden;padding: 0;position: absolute;width: 1px;}#sk-container-id-20 div.sk-estimator {font-family: monospace;background-color: #f0f8ff;border: 1px dotted black;border-radius: 0.25em;box-sizing: border-box;margin-bottom: 0.5em;}#sk-container-id-20 div.sk-estimator:hover {background-color: #d4ebff;}#sk-container-id-20 div.sk-parallel-item::after {content: \"\";width: 100%;border-bottom: 1px solid gray;flex-grow: 1;}#sk-container-id-20 div.sk-label:hover label.sk-toggleable__label {background-color: #d4ebff;}#sk-container-id-20 div.sk-serial::before {content: \"\";position: absolute;border-left: 1px solid gray;box-sizing: border-box;top: 0;bottom: 0;left: 50%;z-index: 0;}#sk-container-id-20 div.sk-serial {display: flex;flex-direction: column;align-items: center;background-color: white;padding-right: 0.2em;padding-left: 0.2em;position: relative;}#sk-container-id-20 div.sk-item {position: relative;z-index: 1;}#sk-container-id-20 div.sk-parallel {display: flex;align-items: stretch;justify-content: center;background-color: white;position: relative;}#sk-container-id-20 div.sk-item::before, #sk-container-id-20 div.sk-parallel-item::before {content: \"\";position: absolute;border-left: 1px solid gray;box-sizing: border-box;top: 0;bottom: 0;left: 50%;z-index: -1;}#sk-container-id-20 div.sk-parallel-item {display: flex;flex-direction: column;z-index: 1;position: relative;background-color: white;}#sk-container-id-20 div.sk-parallel-item:first-child::after {align-self: flex-end;width: 50%;}#sk-container-id-20 div.sk-parallel-item:last-child::after {align-self: flex-start;width: 50%;}#sk-container-id-20 div.sk-parallel-item:only-child::after {width: 0;}#sk-container-id-20 div.sk-dashed-wrapped {border: 1px dashed gray;margin: 0 0.4em 0.5em 0.4em;box-sizing: border-box;padding-bottom: 0.4em;background-color: white;}#sk-container-id-20 div.sk-label label {font-family: monospace;font-weight: bold;display: inline-block;line-height: 1.2em;}#sk-container-id-20 div.sk-label-container {text-align: center;}#sk-container-id-20 div.sk-container {/* jupyter's `normalize.less` sets `[hidden] { display: none; }` but bootstrap.min.css set `[hidden] { display: none !important; }` so we also need the `!important` here to be able to override the default hidden behavior on the sphinx rendered scikit-learn.org. See: https://github.com/scikit-learn/scikit-learn/issues/21755 */display: inline-block !important;position: relative;}#sk-container-id-20 div.sk-text-repr-fallback {display: none;}</style><div id=\"sk-container-id-20\" class=\"sk-top-container\"><div class=\"sk-text-repr-fallback\"><pre>LinearRegression()</pre><b>In a Jupyter environment, please rerun this cell to show the HTML representation or trust the notebook. <br />On GitHub, the HTML representation is unable to render, please try loading this page with nbviewer.org.</b></div><div class=\"sk-container\" hidden><div class=\"sk-item\"><div class=\"sk-estimator sk-toggleable\"><input class=\"sk-toggleable__control sk-hidden--visually\" id=\"sk-estimator-id-20\" type=\"checkbox\" checked><label for=\"sk-estimator-id-20\" class=\"sk-toggleable__label sk-toggleable__label-arrow\">LinearRegression</label><div class=\"sk-toggleable__content\"><pre>LinearRegression()</pre></div></div></div></div></div>"
      ],
      "text/plain": [
       "LinearRegression()"
      ]
     },
     "execution_count": 127,
     "metadata": {},
     "output_type": "execute_result"
    }
   ],
   "source": [
    "X_sp500 = df[['cpi_pct', 'fed_sentiment']].values\n",
    "y_sp500 = df['sp500_q_pct'].values\n",
    "build_and_validate_model(X_sp500, y_sp500, \"sp500\")"
   ]
  },
  {
   "cell_type": "code",
   "execution_count": 135,
   "metadata": {},
   "outputs": [
    {
     "data": {
      "text/plain": [
       "array([2.94780907])"
      ]
     },
     "execution_count": 135,
     "metadata": {},
     "output_type": "execute_result"
    }
   ],
   "source": [
    "# Check:\n",
    "# loaded_model = joblib.load(\"sp500_model.pkl\")\n",
    "# cpi_pct = 0.8564348381840725\n",
    "# fed_sentiment = 0\n",
    "# input_data = np.array([[cpi_pct, fed_sentiment]])\n",
    "# predicted_output = loaded_model.predict(input_data)\n",
    "# predicted_output\n"
   ]
  },
  {
   "cell_type": "code",
   "execution_count": null,
   "metadata": {},
   "outputs": [],
   "source": []
  }
 ],
 "metadata": {
  "kernelspec": {
   "display_name": "Python 3",
   "language": "python",
   "name": "python3"
  },
  "language_info": {
   "codemirror_mode": {
    "name": "ipython",
    "version": 3
   },
   "file_extension": ".py",
   "mimetype": "text/x-python",
   "name": "python",
   "nbconvert_exporter": "python",
   "pygments_lexer": "ipython3",
   "version": "3.11.6"
  }
 },
 "nbformat": 4,
 "nbformat_minor": 2
}
