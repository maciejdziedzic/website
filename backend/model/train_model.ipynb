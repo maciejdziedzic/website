{
 "cells": [
  {
   "cell_type": "code",
   "execution_count": 1,
   "metadata": {},
   "outputs": [],
   "source": [
    "import os\n",
    "import datetime\n",
    "from fredapi import Fred\n",
    "from dotenv import load_dotenv\n",
    "import pandas as pd\n",
    "from sklearn.model_selection import train_test_split\n",
    "from sklearn.linear_model import LogisticRegression\n",
    "from sklearn.ensemble import RandomForestClassifier\n",
    "from sklearn.metrics import confusion_matrix, classification_report, accuracy_score\n",
    "import joblib\n",
    "import numpy as np\n",
    "\n",
    "load_dotenv(\".env\")\n",
    "FRED_API_KEY = os.getenv(\"API_KEY\")\n",
    "fred = Fred(api_key=FRED_API_KEY)\n",
    "\n",
    "start_date = datetime.datetime(1970, 1, 1)\n",
    "end_date = datetime.datetime(2022, 12, 31)\n",
    "extended_date_range = pd.date_range(start=start_date, end=end_date)"
   ]
  },
  {
   "cell_type": "code",
   "execution_count": 2,
   "metadata": {},
   "outputs": [],
   "source": [
    "series_dict = {\n",
    "    'bonds2tr': ('DGS2', 'M'),\n",
    "    'gdp': ('GDP', 'Q'),\n",
    "    'recession': ('JHDUSRGDPBR', 'Q'),\n",
    "    'bonds10tr': ('DGS10', 'M'),\n",
    "    'cpi': ('CPIAUCSL', 'M'),\n",
    "}"
   ]
  },
  {
   "cell_type": "code",
   "execution_count": 3,
   "metadata": {},
   "outputs": [],
   "source": [
    "__bonds2tr = fred.get_series(series_dict['bonds2tr'][0])\n",
    "b2tr_start_date = pd.Timestamp('1976-06-01')\n",
    "b2tr_end_date = pd.Timestamp('1977-12-31')\n",
    "missing_start_date = pd.Timestamp('1970-01-31')\n",
    "mean_value = __bonds2tr[b2tr_start_date:b2tr_end_date].mean()\n",
    "missing_dates = pd.date_range(start=missing_start_date, end=b2tr_start_date - pd.DateOffset(days=1), freq='M')\n",
    "missing_df = pd.DataFrame(index=missing_dates, data={'bonds2tr': mean_value})\n",
    "bonds2tr_df = pd.DataFrame(__bonds2tr, columns=['bonds2tr'])\n",
    "extended_df = pd.concat([missing_df, bonds2tr_df])\n",
    "result_df = extended_df.resample('Q').last()\n",
    "bonds2tr = result_df[(result_df.index >= start_date) & (result_df.index <= end_date)]\n",
    "\n",
    "bonds10tr = fred.get_series(series_dict['bonds10tr'][0])\n",
    "bonds10tr = pd.DataFrame(bonds10tr, columns=['bonds10tr'])\n",
    "bonds10tr = bonds10tr.resample('Q').last()\n",
    "bonds10tr = bonds10tr[(bonds10tr.index >= start_date) & (bonds10tr.index <= end_date)]\n",
    "\n",
    "iyc = bonds10tr['bonds10tr']/100 - bonds2tr['bonds2tr']/100\n",
    "iyc = pd.DataFrame(iyc, columns=['iyc'])"
   ]
  },
  {
   "cell_type": "code",
   "execution_count": 4,
   "metadata": {},
   "outputs": [],
   "source": [
    "cpi = fred.get_series(series_dict['cpi'][0])\n",
    "cpi = pd.DataFrame(cpi, columns=['cpi'])\n",
    "cpi = cpi.resample('Q').last()\n",
    "cpi = cpi[(cpi.index >= start_date) & (cpi.index <= end_date)]"
   ]
  },
  {
   "cell_type": "code",
   "execution_count": 5,
   "metadata": {},
   "outputs": [],
   "source": [
    "gdp = fred.get_series(series_dict['gdp'][0])\n",
    "gdp = pd.DataFrame(gdp, columns=['gdp'])\n",
    "gdp['gdp'] = gdp['gdp'].pct_change()\n",
    "gdp = gdp[(gdp.index >= start_date) & (gdp.index <= end_date)]\n",
    "gdp.index = gdp.index.to_period('Q').to_timestamp('Q')\n",
    "\n",
    "recession = fred.get_series(series_dict['recession'][0])\n",
    "recession = pd.DataFrame(recession, columns=['recession'])\n",
    "recession = recession.resample('Q').last()\n",
    "recession = recession[(recession.index >= start_date) & (recession.index <= end_date)]"
   ]
  },
  {
   "cell_type": "code",
   "execution_count": 6,
   "metadata": {},
   "outputs": [],
   "source": [
    "df = pd.concat([recession, gdp,  iyc], axis=1)\n",
    "df.index.name = 'date'"
   ]
  },
  {
   "cell_type": "code",
   "execution_count": 7,
   "metadata": {},
   "outputs": [
    {
     "data": {
      "text/plain": [
       "array([0.])"
      ]
     },
     "execution_count": 7,
     "metadata": {},
     "output_type": "execute_result"
    }
   ],
   "source": [
    "# Splitting data into train and test sets\n",
    "X = df[['gdp',  'iyc']]\n",
    "y = df['recession']\n",
    "X_train, X_test, y_train, y_test = train_test_split(X, y, test_size=0.2, random_state=42)\n",
    "\n",
    "# Initializing models\n",
    "logreg = LogisticRegression()\n",
    "rf = RandomForestClassifier()\n",
    "\n",
    "# Fitting and predicting with Logistic Regression\n",
    "logreg.fit(X_train, y_train)\n",
    "y_pred_logreg = logreg.predict(X_test)\n",
    "\n",
    "# Fitting and predicting with Random Forest\n",
    "rf.fit(X_train, y_train)\n",
    "y_pred_rf = rf.predict(X_test)\n",
    "\n",
    "# Evaluating Models\n",
    "# def evaluate_model(y_test, y_pred, model_name):\n",
    "#     print(f\"Evaluation of {model_name}:\")\n",
    "#     print(\"Confusion Matrix:\")\n",
    "#     print(confusion_matrix(y_test, y_pred))\n",
    "#     print(\"\\nClassification Report:\")\n",
    "#     print(classification_report(y_test, y_pred))\n",
    "#     print(\"\\nAccuracy Score:\")\n",
    "#     print(accuracy_score(y_test, y_pred))\n",
    "#     print(\"\\n----------------------\\n\")\n",
    "\n",
    "# evaluate_model(y_test, y_pred_logreg, \"Logistic Regression\")\n",
    "# evaluate_model(y_test, y_pred_rf, \"Random Forest\")\n",
    "test_data = {\n",
    "    'gdp': [1.5],  # example GDP values\n",
    "    # 'cpi': [2.0], \n",
    "    'iyc': [1.0]   # example IYC values\n",
    "}\n",
    "\n",
    "test_data = pd.DataFrame(test_data)\n",
    "y_test_pred = rf.predict(test_data)\n",
    "y_test_pred"
   ]
  },
  {
   "cell_type": "code",
   "execution_count": 8,
   "metadata": {},
   "outputs": [
    {
     "data": {
      "text/plain": [
       "['saved_model.pkl']"
      ]
     },
     "execution_count": 8,
     "metadata": {},
     "output_type": "execute_result"
    }
   ],
   "source": [
    "joblib.dump(rf, 'saved_model.pkl')"
   ]
  },
  {
   "cell_type": "code",
   "execution_count": null,
   "metadata": {},
   "outputs": [],
   "source": []
  },
  {
   "cell_type": "code",
   "execution_count": null,
   "metadata": {},
   "outputs": [],
   "source": []
  }
 ],
 "metadata": {
  "kernelspec": {
   "display_name": "Python 3",
   "language": "python",
   "name": "python3"
  },
  "language_info": {
   "codemirror_mode": {
    "name": "ipython",
    "version": 3
   },
   "file_extension": ".py",
   "mimetype": "text/x-python",
   "name": "python",
   "nbconvert_exporter": "python",
   "pygments_lexer": "ipython3",
   "version": "3.11.6"
  }
 },
 "nbformat": 4,
 "nbformat_minor": 2
}
