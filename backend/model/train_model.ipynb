{
 "cells": [
  {
   "cell_type": "code",
   "execution_count": 145,
   "metadata": {},
   "outputs": [],
   "source": [
    "import os\n",
    "import datetime\n",
    "import pandas as pd\n",
    "import numpy as np\n",
    "from fredapi import Fred\n",
    "from dotenv import load_dotenv\n",
    "from sklearn.model_selection import TimeSeriesSplit\n",
    "from sklearn.metrics import mean_squared_error\n",
    "from sklearn.linear_model import LinearRegression\n",
    "import statsmodels.api as sm\n",
    "import joblib\n",
    "\n",
    "def load_data_from_fred(api_key, series_code):\n",
    "    fred = Fred(api_key=api_key)\n",
    "    series = fred.get_series(series_code)\n",
    "    df = pd.DataFrame(series)\n",
    "    return df\n",
    "\n",
    "\n",
    "def preprocess_stooq_data(filepath, column_name):\n",
    "    df = pd.read_csv(filepath)\n",
    "    df['Data'] = pd.to_datetime(df['Data'])\n",
    "    df.set_index('Data', inplace=True)\n",
    "    df = df.rename(columns={\"Zamkniecie\": column_name})\n",
    "    df = df[[column_name]]\n",
    "    df_q = df.resample('Q').last()\n",
    "    df_q[f'{column_name}_q_pct'] = df_q[column_name].pct_change() * 100\n",
    "    df_q = df_q.drop(column_name, axis=1)\n",
    "    return df_q[(df_q.index >= start_date) & (df_q.index <= end_date)]\n",
    "\n",
    "\n",
    "def build_and_validate_model(X, y, model_name):\n",
    "    tscv = TimeSeriesSplit(n_splits=2)\n",
    "    model = LinearRegression()\n",
    "\n",
    "    for train_index, test_index in tscv.split(X):\n",
    "        X_train, X_test = X[train_index], X[test_index]\n",
    "        y_train, y_test = y[train_index], y[test_index]\n",
    "        model.fit(X_train, y_train)\n",
    "        predictions = model.predict(X_test)\n",
    "        mse = mean_squared_error(y_test, predictions)\n",
    "        print(f\"{model_name} Test MSE: {mse}\")\n",
    "\n",
    "    print(f\"{model_name} Model Coefficients:\", model.coef_)\n",
    "    print(f\"{model_name} Model Intercept:\", model.intercept_)\n",
    "\n",
    "    r2_score_train = model.score(X_train, y_train)\n",
    "    r2_score_test = model.score(X_test, y_test)\n",
    "\n",
    "    print(f\"{model_name} Training R^2: {r2_score_train}\")\n",
    "    print(f\"{model_name} Test R^2: {r2_score_test}\")\n",
    "\n",
    "    # Statsmodels for detailed statistics\n",
    "    X_with_const = sm.add_constant(X_train)\n",
    "    ols_model = sm.OLS(y_train, X_with_const)\n",
    "    result = ols_model.fit()\n",
    "    print(result.summary())\n",
    "\n",
    "    # Save model to a .pkl file\n",
    "    joblib.dump(model, f\"{model_name}_model.pkl\")\n",
    "\n",
    "    return model"
   ]
  },
  {
   "cell_type": "code",
   "execution_count": 146,
   "metadata": {},
   "outputs": [],
   "source": [
    "# Environment setup\n",
    "load_dotenv(\"../.env\")\n",
    "FRED_API_KEY = os.getenv(\"API_KEY\")\n",
    "\n",
    "start_date = datetime.datetime(1955, 1, 1)\n",
    "end_date = datetime.datetime(2022, 12, 31)"
   ]
  },
  {
   "cell_type": "code",
   "execution_count": 151,
   "metadata": {},
   "outputs": [],
   "source": [
    "# Data loading and preprocessing\n",
    "# gold = preprocess_stooq_data('../data/xausd.csv', 'gold')\n",
    "sp500 = preprocess_stooq_data('../data/spx.csv', 'sp500')\n",
    "cpi = load_data_from_fred(FRED_API_KEY, 'CPIAUCSL')\n",
    "cpi.columns = ['cpi']\n",
    "cpi = cpi.resample('Q').last()\n",
    "cpi['cpi_pct'] = cpi['cpi'].pct_change() * 100\n",
    "cpi.index = cpi.index + pd.offsets.MonthEnd(0)\n",
    "cpi.index.name = 'date'\n",
    "fedrate = load_data_from_fred(FRED_API_KEY, 'FEDFUNDS')\n",
    "fedrate.columns = ['fedrate']\n",
    "fedrate_avg = fedrate.resample('Q')\n",
    "# Final Df:\n",
    "df = pd.concat([sp500, cpi, fedrate], axis=1)\n",
    "df['fedrate_change'] = df['fedrate'].diff()\n",
    "df['fed_sentiment'] = np.where(df['fedrate_change'] > 0, 1, \n",
    "                               np.where(df['fedrate_change'] < 0, -1, 0))\n",
    "df['cpi_pct_lag1'] = df['cpi_pct'].shift(1)\n",
    "df['fed_sentiment_lag1'] = df['fed_sentiment'].shift(1)\n",
    "df['fed_sentiment_cpi'] = df['fed_sentiment'] * df['cpi_pct']\n",
    "df['cpi_pct_squared'] = df['cpi_pct']**2\n",
    "df['cpi_rate_of_change'] = df['cpi_pct'].diff()\n",
    "df['cpi_moving_avg'] = df['cpi_pct'].rolling(window=3).mean()\n",
    "\n",
    "df = df[(df.index >= start_date) & (df.index <= end_date)]"
   ]
  },
  {
   "cell_type": "code",
   "execution_count": 142,
   "metadata": {},
   "outputs": [],
   "source": [
    "# X_sp500 = df[['cpi_pct', 'fed_sentiment']].values\n",
    "# y_sp500 = df['sp500_q_pct'].values\n",
    "# build_and_validate_model(X_sp500, y_sp500, \"sp500\")"
   ]
  },
  {
   "cell_type": "code",
   "execution_count": 140,
   "metadata": {},
   "outputs": [],
   "source": [
    "# Check:\n",
    "# loaded_model = joblib.load(\"sp500_model.pkl\")\n",
    "# cpi_pct = 0.8564348381840725\n",
    "# fed_sentiment = 0\n",
    "# input_data = np.array([[cpi_pct, fed_sentiment]])\n",
    "# predicted_output = loaded_model.predict(input_data)\n",
    "# predicted_output"
   ]
  }
 ],
 "metadata": {
  "kernelspec": {
   "display_name": "Python 3",
   "language": "python",
   "name": "python3"
  },
  "language_info": {
   "codemirror_mode": {
    "name": "ipython",
    "version": 3
   },
   "file_extension": ".py",
   "mimetype": "text/x-python",
   "name": "python",
   "nbconvert_exporter": "python",
   "pygments_lexer": "ipython3",
   "version": "3.11.6"
  }
 },
 "nbformat": 4,
 "nbformat_minor": 2
}
