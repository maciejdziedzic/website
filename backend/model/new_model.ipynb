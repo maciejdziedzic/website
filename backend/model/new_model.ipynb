{
 "cells": [
  {
   "cell_type": "code",
   "execution_count": 2,
   "metadata": {},
   "outputs": [
    {
     "data": {
      "text/html": [
       "<div>\n",
       "<style scoped>\n",
       "    .dataframe tbody tr th:only-of-type {\n",
       "        vertical-align: middle;\n",
       "    }\n",
       "\n",
       "    .dataframe tbody tr th {\n",
       "        vertical-align: top;\n",
       "    }\n",
       "\n",
       "    .dataframe thead th {\n",
       "        text-align: right;\n",
       "    }\n",
       "</style>\n",
       "<table border=\"1\" class=\"dataframe\">\n",
       "  <thead>\n",
       "    <tr style=\"text-align: right;\">\n",
       "      <th></th>\n",
       "      <th>target</th>\n",
       "      <th>cpi_pct</th>\n",
       "      <th>unrate</th>\n",
       "    </tr>\n",
       "  </thead>\n",
       "  <tbody>\n",
       "    <tr>\n",
       "      <th>1955-03-31</th>\n",
       "      <td>1</td>\n",
       "      <td>0.187126</td>\n",
       "      <td>4.9</td>\n",
       "    </tr>\n",
       "    <tr>\n",
       "      <th>1955-06-30</th>\n",
       "      <td>1</td>\n",
       "      <td>0.074710</td>\n",
       "      <td>4.7</td>\n",
       "    </tr>\n",
       "    <tr>\n",
       "      <th>1955-09-30</th>\n",
       "      <td>1</td>\n",
       "      <td>-0.111982</td>\n",
       "      <td>4.0</td>\n",
       "    </tr>\n",
       "    <tr>\n",
       "      <th>1955-12-31</th>\n",
       "      <td>1</td>\n",
       "      <td>0.224215</td>\n",
       "      <td>4.3</td>\n",
       "    </tr>\n",
       "    <tr>\n",
       "      <th>1956-03-31</th>\n",
       "      <td>1</td>\n",
       "      <td>0.037286</td>\n",
       "      <td>4.0</td>\n",
       "    </tr>\n",
       "  </tbody>\n",
       "</table>\n",
       "</div>"
      ],
      "text/plain": [
       "            target   cpi_pct  unrate\n",
       "1955-03-31       1  0.187126     4.9\n",
       "1955-06-30       1  0.074710     4.7\n",
       "1955-09-30       1 -0.111982     4.0\n",
       "1955-12-31       1  0.224215     4.3\n",
       "1956-03-31       1  0.037286     4.0"
      ]
     },
     "execution_count": 2,
     "metadata": {},
     "output_type": "execute_result"
    }
   ],
   "source": [
    "import pandas as pd\n",
    "import os\n",
    "import pathlib\n",
    "import joblib\n",
    "from dotenv import load_dotenv\n",
    "from sklearn.model_selection import train_test_split, TimeSeriesSplit\n",
    "from sklearn.ensemble import RandomForestClassifier\n",
    "from sklearn.linear_model import LogisticRegression\n",
    "from sklearn.metrics import classification_report, roc_curve, auc\n",
    "from sklearn.preprocessing import StandardScaler\n",
    "import matplotlib.pyplot as plt\n",
    "import shap\n",
    "from fredapi import Fred\n",
    "\n",
    "\n",
    "# Load FRED API key from .env file\n",
    "env_path = pathlib.Path('..') / '.env'\n",
    "load_dotenv(dotenv_path=env_path)\n",
    "FRED_API_KEY = os.getenv(\"FRED_API_KEY\")\n",
    "fred = Fred(api_key=FRED_API_KEY)\n",
    "\n",
    "# Define series to fetch from FRED\n",
    "series_dict = {\n",
    "    'gdp': ('GDP', 'Q'),\n",
    "    'cpi': ('CPIAUCSL', 'M'),\n",
    "    'unrate': ('UNRATE', 'M'),\n",
    "    'fedrate': ('FEDFUNDS', 'M'),\n",
    "}\n",
    "\n",
    "# Fetch data from FRED\n",
    "data = pd.DataFrame()\n",
    "for var_name, (series_id, freq) in series_dict.items():\n",
    "    series_data = fred.get_series(series_id)\n",
    "    data[var_name] = series_data\n",
    "\n",
    "# Resample monthly data to quarterly and calculate additional variables\n",
    "data_q = pd.DataFrame()\n",
    "data_q['fedrate'] = data['fedrate'].resample('Q').mean()\n",
    "data_q['gdp'] = data['gdp'].resample('Q').last()\n",
    "data_q['unrate'] = data['unrate'].resample('Q').mean()\n",
    "data_q['cpi'] = data['cpi'].resample('Q').mean()\n",
    "data_q['gdp_pct'] = data_q['gdp'].pct_change() * 100\n",
    "data_q['gdp_pct_ma4'] = data_q['gdp_pct'].rolling(window=4).mean()\n",
    "data_q['cpi_pct'] = data_q['cpi'].pct_change() * 100\n",
    "\n",
    "# Define start and end dates\n",
    "start_date = '1955-01-01'\n",
    "end_date = '2022-12-31'\n",
    "\n",
    "# Filter data based on specified date range\n",
    "data_input = data_q[['fedrate', 'gdp', 'gdp_pct', 'gdp_pct_ma4', 'cpi', 'cpi_pct', 'unrate']].copy()\n",
    "data_input['fedrate_change'] = data_input['fedrate'].diff()\n",
    "data_input['target'] = (data_input['fedrate_change'] > 0).astype(int)\n",
    "\n",
    "# Extend the start date to include additional rows for lag features\n",
    "extended_start_date = pd.to_datetime(start_date) - pd.DateOffset(months=6)  # extend by two quarters\n",
    "data_input = data_input.loc[extended_start_date:end_date]\n",
    "\n",
    "# Apply lag operations\n",
    "# data_input['cpi_pct_lag1'] = data_input['cpi_pct'].shift(1)\n",
    "# data_input['cpi_pct_lag2'] = data_input['cpi_pct'].shift(2)\n",
    "# data_input['unrate_lag1'] = data_input['unrate'].shift(1)\n",
    "# data_input['unrate_lag2'] = data_input['unrate'].shift(2)\n",
    "\n",
    "# Filter the data again to the desired date range\n",
    "df = data_input.loc[start_date:end_date]\n",
    "df = df[['target',  'cpi_pct', 'unrate']]\n",
    "\n",
    "df.head()\n"
   ]
  },
  {
   "cell_type": "code",
   "execution_count": 34,
   "metadata": {},
   "outputs": [
    {
     "name": "stdout",
     "output_type": "stream",
     "text": [
      "Logistic Regression Classification Report:\n",
      "              precision    recall  f1-score   support\n",
      "\n",
      "           0       0.66      0.73      0.69        26\n",
      "           1       0.73      0.66      0.69        29\n",
      "\n",
      "    accuracy                           0.69        55\n",
      "   macro avg       0.69      0.69      0.69        55\n",
      "weighted avg       0.70      0.69      0.69        55\n",
      "\n"
     ]
    }
   ],
   "source": [
    "# Assume df is your preprocessed DataFrame\n",
    "X = df[['cpi_pct', 'unrate']]\n",
    "y = df['target']\n",
    "\n",
    "# Split the dataset while preserving time order\n",
    "train_size = int(len(df) * 0.8)\n",
    "X_train, X_test = X.iloc[:train_size], X.iloc[train_size:]\n",
    "y_train, y_test = y.iloc[:train_size], y.iloc[train_size:]\n",
    "\n",
    "# Standardize the features (important for models like logistic regression)\n",
    "scaler = StandardScaler()\n",
    "X_train_scaled = scaler.fit_transform(X_train)\n",
    "X_test_scaled = scaler.transform(X_test)\n",
    "\n",
    "log_reg_model = LogisticRegression(random_state=42)\n",
    "log_reg_model.fit(X_train_scaled, y_train)\n",
    "log_reg_preds = log_reg_model.predict(X_test_scaled)\n",
    "\n",
    "# intercept = log_reg_model.intercept_[0]\n",
    "# coef_cpi_pct, coef_unrate = log_reg_model.coef_[0]\n",
    "\n",
    "# print(f\"Intercept (b0): {intercept}\")\n",
    "# print(f\"Coefficient for CPI percentage change (b1): {coef_cpi_pct}\")\n",
    "# print(f\"Coefficient for Unemployment Rate (b2): {coef_unrate}\")\n",
    "\n",
    "\n",
    "# # ROC Curve and AUC Score\n",
    "# log_reg_probs = log_reg_model.predict_proba(X_test_scaled)[:, 1]  # Probabilities of the positive class\n",
    "# fpr, tpr, thresholds = roc_curve(y_test, log_reg_probs)\n",
    "# roc_auc = auc(fpr, tpr)\n",
    "\n",
    "# plt.figure()\n",
    "# plt.plot(fpr, tpr, color='darkorange', lw=2, label='ROC curve (area = %0.2f)' % roc_auc)\n",
    "# plt.plot([0, 1], [0, 1], color='navy', lw=2, linestyle='--')\n",
    "# plt.xlim([0.0, 1.0])\n",
    "# plt.ylim([0.0, 1.05])\n",
    "# plt.xlabel('False Positive Rate')\n",
    "# plt.ylabel('True Positive Rate')\n",
    "# plt.title('Receiver Operating Characteristic')\n",
    "# plt.legend(loc=\"lower right\")\n",
    "# plt.show()\n",
    "\n",
    "# # Print Classification Report\n",
    "print(\"Logistic Regression Classification Report:\")\n",
    "print(classification_report(y_test, log_reg_preds))\n",
    "\n",
    "# # SHAP Values (explaining the model's predictions)\n",
    "# explainer = shap.Explainer(log_reg_model, X_train_scaled)\n",
    "# shap_values = explainer.shap_values(X_test_scaled)\n",
    "# shap.summary_plot(shap_values, X_test_scaled, feature_names=X.columns)\n"
   ]
  },
  {
   "cell_type": "code",
   "execution_count": 35,
   "metadata": {},
   "outputs": [
    {
     "data": {
      "text/plain": [
       "['fed_scaler.pkl']"
      ]
     },
     "execution_count": 35,
     "metadata": {},
     "output_type": "execute_result"
    }
   ],
   "source": [
    "joblib.dump(log_reg_model, 'fed_model.pkl')\n",
    "joblib.dump(scaler, 'fed_scaler.pkl')"
   ]
  },
  {
   "cell_type": "code",
   "execution_count": 6,
   "metadata": {},
   "outputs": [],
   "source": [
    "unemp = fred.get_series('UNRATE')\n",
    "last_unemp = unemp.iloc[-1]"
   ]
  },
  {
   "cell_type": "code",
   "execution_count": 8,
   "metadata": {},
   "outputs": [
    {
     "name": "stdout",
     "output_type": "stream",
     "text": [
      "3.8\n"
     ]
    }
   ],
   "source": [
    "print(last_unemp)"
   ]
  },
  {
   "cell_type": "code",
   "execution_count": null,
   "metadata": {},
   "outputs": [],
   "source": []
  }
 ],
 "metadata": {
  "kernelspec": {
   "display_name": "Python 3",
   "language": "python",
   "name": "python3"
  },
  "language_info": {
   "codemirror_mode": {
    "name": "ipython",
    "version": 3
   },
   "file_extension": ".py",
   "mimetype": "text/x-python",
   "name": "python",
   "nbconvert_exporter": "python",
   "pygments_lexer": "ipython3",
   "version": "3.11.6"
  }
 },
 "nbformat": 4,
 "nbformat_minor": 2
}
